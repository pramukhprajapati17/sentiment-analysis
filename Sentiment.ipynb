{
 "cells": [
  {
   "cell_type": "code",
   "execution_count": 2,
   "metadata": {
    "id": "Ogv8ilTMMBiE"
   },
   "outputs": [],
   "source": [
    "import pandas as pd\n",
    "from nltk.stem.porter import PorterStemmer"
   ]
  },
  {
   "cell_type": "code",
   "execution_count": 3,
   "metadata": {
    "colab": {
     "base_uri": "https://localhost:8080/"
    },
    "id": "Evh8DPlMVq3o",
    "outputId": "fff845bc-3ec9-46f6-bfcb-d16426ca204e"
   },
   "outputs": [
    {
     "name": "stderr",
     "output_type": "stream",
     "text": [
      "[nltk_data] Downloading package stopwords to C:\\Users\\Pramukh\n",
      "[nltk_data]     Prajapati\\AppData\\Roaming\\nltk_data...\n",
      "[nltk_data]   Package stopwords is already up-to-date!\n"
     ]
    },
    {
     "data": {
      "text/plain": [
       "True"
      ]
     },
     "execution_count": 3,
     "metadata": {},
     "output_type": "execute_result"
    }
   ],
   "source": [
    "import nltk\n",
    "from nltk.corpus import stopwords\n",
    "nltk.download('stopwords')"
   ]
  },
  {
   "cell_type": "code",
   "execution_count": 4,
   "metadata": {
    "id": "8FRX-OOU_XQj"
   },
   "outputs": [],
   "source": [
    "df= pd.read_csv('./Restaurant_Reviews 1.tsv', delimiter='\\t', quoting=3)"
   ]
  },
  {
   "cell_type": "code",
   "execution_count": 5,
   "metadata": {
    "colab": {
     "base_uri": "https://localhost:8080/",
     "height": 206
    },
    "id": "yUmjPSCz_vTI",
    "outputId": "e1b8f297-d694-4112-83ce-6de5a741dcc0"
   },
   "outputs": [
    {
     "data": {
      "text/html": [
       "<div>\n",
       "<style scoped>\n",
       "    .dataframe tbody tr th:only-of-type {\n",
       "        vertical-align: middle;\n",
       "    }\n",
       "\n",
       "    .dataframe tbody tr th {\n",
       "        vertical-align: top;\n",
       "    }\n",
       "\n",
       "    .dataframe thead th {\n",
       "        text-align: right;\n",
       "    }\n",
       "</style>\n",
       "<table border=\"1\" class=\"dataframe\">\n",
       "  <thead>\n",
       "    <tr style=\"text-align: right;\">\n",
       "      <th></th>\n",
       "      <th>Review</th>\n",
       "      <th>Liked</th>\n",
       "    </tr>\n",
       "  </thead>\n",
       "  <tbody>\n",
       "    <tr>\n",
       "      <th>0</th>\n",
       "      <td>Wow... Loved this place.</td>\n",
       "      <td>1</td>\n",
       "    </tr>\n",
       "    <tr>\n",
       "      <th>1</th>\n",
       "      <td>Crust is not good.</td>\n",
       "      <td>0</td>\n",
       "    </tr>\n",
       "    <tr>\n",
       "      <th>2</th>\n",
       "      <td>Not tasty and the texture was just nasty.</td>\n",
       "      <td>0</td>\n",
       "    </tr>\n",
       "    <tr>\n",
       "      <th>3</th>\n",
       "      <td>Stopped by during the late May bank holiday of...</td>\n",
       "      <td>1</td>\n",
       "    </tr>\n",
       "    <tr>\n",
       "      <th>4</th>\n",
       "      <td>The selection on the menu was great and so wer...</td>\n",
       "      <td>1</td>\n",
       "    </tr>\n",
       "  </tbody>\n",
       "</table>\n",
       "</div>"
      ],
      "text/plain": [
       "                                              Review  Liked\n",
       "0                           Wow... Loved this place.      1\n",
       "1                                 Crust is not good.      0\n",
       "2          Not tasty and the texture was just nasty.      0\n",
       "3  Stopped by during the late May bank holiday of...      1\n",
       "4  The selection on the menu was great and so wer...      1"
      ]
     },
     "execution_count": 5,
     "metadata": {},
     "output_type": "execute_result"
    }
   ],
   "source": [
    "df.head()"
   ]
  },
  {
   "cell_type": "code",
   "execution_count": 6,
   "metadata": {
    "colab": {
     "base_uri": "https://localhost:8080/"
    },
    "id": "5GdQdQDU_xoJ",
    "outputId": "4facf99a-7f8b-4ac2-e570-175dbe47a12e"
   },
   "outputs": [
    {
     "data": {
      "text/plain": [
       "(1000, 2)"
      ]
     },
     "execution_count": 6,
     "metadata": {},
     "output_type": "execute_result"
    }
   ],
   "source": [
    "df.shape"
   ]
  },
  {
   "cell_type": "code",
   "execution_count": 7,
   "metadata": {
    "colab": {
     "base_uri": "https://localhost:8080/",
     "height": 36
    },
    "id": "OY6xJrWs_4UZ",
    "outputId": "82fa1b45-93fd-4bd7-c0fa-cc31b061a00b"
   },
   "outputs": [
    {
     "data": {
      "text/plain": [
       "'Wow... Loved this place.'"
      ]
     },
     "execution_count": 7,
     "metadata": {},
     "output_type": "execute_result"
    }
   ],
   "source": [
    "df[\"Review\"][0]"
   ]
  },
  {
   "cell_type": "code",
   "execution_count": 8,
   "metadata": {
    "colab": {
     "base_uri": "https://localhost:8080/"
    },
    "id": "18g4p4UZ_-qx",
    "outputId": "61a3fd77-7964-46c6-ef1a-04368bb4529f"
   },
   "outputs": [
    {
     "name": "stdout",
     "output_type": "stream",
     "text": [
      "<class 'pandas.core.frame.DataFrame'>\n",
      "RangeIndex: 1000 entries, 0 to 999\n",
      "Data columns (total 2 columns):\n",
      " #   Column  Non-Null Count  Dtype \n",
      "---  ------  --------------  ----- \n",
      " 0   Review  1000 non-null   object\n",
      " 1   Liked   1000 non-null   int64 \n",
      "dtypes: int64(1), object(1)\n",
      "memory usage: 15.8+ KB\n"
     ]
    }
   ],
   "source": [
    "df.info()"
   ]
  },
  {
   "cell_type": "code",
   "execution_count": 9,
   "metadata": {
    "colab": {
     "base_uri": "https://localhost:8080/"
    },
    "id": "oD12HI5JACQM",
    "outputId": "879f14c3-1c6f-4136-ffba-90fb269f7ba5"
   },
   "outputs": [
    {
     "data": {
      "text/plain": [
       "Index(['Review', 'Liked'], dtype='object')"
      ]
     },
     "execution_count": 9,
     "metadata": {},
     "output_type": "execute_result"
    }
   ],
   "source": [
    "df.columns"
   ]
  },
  {
   "cell_type": "code",
   "execution_count": 10,
   "metadata": {
    "id": "Mlx1TfllAzoE"
   },
   "outputs": [],
   "source": [
    "import string\n",
    "import re\n",
    "corpus=[]\n",
    "for i in range (0,1000):\n",
    "  review=re.sub('[^a-zA-Z]',repl=' ',string=df['Review'][i])\n",
    "  review=review.lower()\n",
    "  review_word=review.split()\n",
    "  review_word=[word for word in review_word if not word in set(stopwords.words('english'))]\n",
    "  ps=PorterStemmer()\n",
    "  review1=[ps.stem(word) for word in review_word]\n",
    "  review=' '.join(review_word)\n",
    "  corpus.append(review)"
   ]
  },
  {
   "cell_type": "code",
   "execution_count": 11,
   "metadata": {
    "colab": {
     "base_uri": "https://localhost:8080/"
    },
    "id": "Vcpe8TVMCjCZ",
    "outputId": "a3255f52-530f-49aa-f0bf-a7f0744d9826"
   },
   "outputs": [
    {
     "data": {
      "text/plain": [
       "['wow loved place',\n",
       " 'crust good',\n",
       " 'tasty texture nasty',\n",
       " 'stopped late may bank holiday rick steve recommendation loved',\n",
       " 'selection menu great prices',\n",
       " 'getting angry want damn pho',\n",
       " 'honeslty taste fresh',\n",
       " 'potatoes like rubber could tell made ahead time kept warmer',\n",
       " 'fries great',\n",
       " 'great touch',\n",
       " 'service prompt',\n",
       " 'would go back',\n",
       " 'cashier care ever say still ended wayyy overpriced',\n",
       " 'tried cape cod ravoli chicken cranberry mmmm',\n",
       " 'disgusted pretty sure human hair',\n",
       " 'shocked signs indicate cash',\n",
       " 'highly recommended',\n",
       " 'waitress little slow service',\n",
       " 'place worth time let alone vegas',\n",
       " 'like',\n",
       " 'burrittos blah',\n",
       " 'food amazing',\n",
       " 'service also cute',\n",
       " 'could care less interior beautiful',\n",
       " 'performed',\n",
       " 'right red velvet cake ohhh stuff good',\n",
       " 'never brought salad asked',\n",
       " 'hole wall great mexican street tacos friendly staff',\n",
       " 'took hour get food tables restaurant food luke warm sever running around like totally overwhelmed',\n",
       " 'worst salmon sashimi',\n",
       " 'also combos like burger fries beer decent deal',\n",
       " 'like final blow',\n",
       " 'found place accident could happier',\n",
       " 'seems like good quick place grab bite familiar pub food favor look elsewhere',\n",
       " 'overall like place lot',\n",
       " 'redeeming quality restaurant inexpensive',\n",
       " 'ample portions good prices',\n",
       " 'poor service waiter made feel like stupid every time came table',\n",
       " 'first visit hiro delight',\n",
       " 'service sucks',\n",
       " 'shrimp tender moist',\n",
       " 'deal good enough would drag establishment',\n",
       " 'hard judge whether sides good grossed melted styrofoam want eat fear getting sick',\n",
       " 'positive note server attentive provided great service',\n",
       " 'frozen pucks disgust worst people behind register',\n",
       " 'thing like prime rib dessert section',\n",
       " 'bad food damn generic',\n",
       " 'burger good beef cooked right',\n",
       " 'want sandwich go firehouse',\n",
       " 'side greek salad greek dressing tasty pita hummus refreshing',\n",
       " 'ordered duck rare pink tender inside nice char outside',\n",
       " 'came running us realized husband left sunglasses table',\n",
       " 'chow mein good',\n",
       " 'horrible attitudes towards customers talk one customers enjoy food',\n",
       " 'portion huge',\n",
       " 'loved friendly servers great food wonderful imaginative menu',\n",
       " 'heart attack grill downtown vegas absolutely flat lined excuse restaurant',\n",
       " 'much seafood like strings pasta bottom',\n",
       " 'salad right amount sauce power scallop perfectly cooked',\n",
       " 'ripped banana ripped petrified tasteless',\n",
       " 'least think refill water struggle wave minutes',\n",
       " 'place receives stars appetizers',\n",
       " 'cocktails handmade delicious',\n",
       " 'definitely go back',\n",
       " 'glad found place',\n",
       " 'great food service huge portions give military discount',\n",
       " 'always great time dos gringos',\n",
       " 'update went back second time still amazing',\n",
       " 'got food apparently never heard salt batter fish chewy',\n",
       " 'great way finish great',\n",
       " 'deal included tastings drinks jeff went beyond expected',\n",
       " 'really really good rice time',\n",
       " 'service meh',\n",
       " 'took min get milkshake nothing chocolate milk',\n",
       " 'guess known place would suck inside excalibur use common sense',\n",
       " 'scallop dish quite appalling value well',\n",
       " 'times bad customer service',\n",
       " 'sweet potato fries good seasoned well',\n",
       " 'today second time lunch buffet pretty good',\n",
       " 'much good food vegas feel cheated wasting eating opportunity going rice company',\n",
       " 'coming like experiencing underwhelming relationship parties wait person ask break',\n",
       " 'walked place smelled like old grease trap others eating',\n",
       " 'turkey roast beef bland',\n",
       " 'place',\n",
       " 'pan cakes everyone raving taste like sugary disaster tailored palate six year old',\n",
       " 'love pho spring rolls oh yummy try',\n",
       " 'poor batter meat ratio made chicken tenders unsatisfying',\n",
       " 'say food amazing',\n",
       " 'omelets die',\n",
       " 'everything fresh delicious',\n",
       " 'summary largely disappointing dining experience',\n",
       " 'like really sexy party mouth outrageously flirting hottest person party',\n",
       " 'never hard rock casino never ever step forward',\n",
       " 'best breakfast buffet',\n",
       " 'say bye bye tip lady',\n",
       " 'never go',\n",
       " 'back',\n",
       " 'food arrived quickly',\n",
       " 'good',\n",
       " 'side cafe serves really good food',\n",
       " 'server fantastic found wife loves roasted garlic bone marrow added extra meal another marrow go',\n",
       " 'good thing waiter helpful kept bloddy mary coming',\n",
       " 'best buffet town price cannot beat',\n",
       " 'loved mussels cooked wine reduction duck tender potato dishes delicious',\n",
       " 'one better buffets',\n",
       " 'went tigerlilly fantastic afternoon',\n",
       " 'food delicious bartender attentive personable got great deal',\n",
       " 'ambience wonderful music playing',\n",
       " 'go back next trip',\n",
       " 'sooooo good',\n",
       " 'real sushi lovers let honest yama good',\n",
       " 'least min passed us ordering food arriving busy',\n",
       " 'really fantastic thai restaurant definitely worth visit',\n",
       " 'nice spicy tender',\n",
       " 'good prices',\n",
       " 'check',\n",
       " 'pretty gross',\n",
       " 'better atmosphere',\n",
       " 'kind hard mess steak',\n",
       " 'although much liked look sound place actual experience bit disappointing',\n",
       " 'know place managed served blandest food ever eaten preparing indian cuisine',\n",
       " 'worst service boot least worries',\n",
       " 'service fine waitress friendly',\n",
       " 'guys steaks steak loving son steak best worst places said best steak ever eaten',\n",
       " 'thought venture away get good sushi place really hit spot night',\n",
       " 'host staff lack better word bitches',\n",
       " 'bland liking place number reasons want waste time bad reviewing leave',\n",
       " 'phenomenal food service ambiance',\n",
       " 'return',\n",
       " 'definitely worth venturing strip pork belly return next time vegas',\n",
       " 'place way overpriced mediocre food',\n",
       " 'penne vodka excellent',\n",
       " 'good selection food including massive meatloaf sandwich crispy chicken wrap delish tuna melt tasty burgers',\n",
       " 'management rude',\n",
       " 'delicious nyc bagels good selections cream cheese real lox capers even',\n",
       " 'great subway fact good come every subway meet expectations',\n",
       " 'seriously solid breakfast',\n",
       " 'one best bars food vegas',\n",
       " 'extremely rude really many restaurants would love dine weekend vegas',\n",
       " 'drink never empty made really great menu suggestions',\n",
       " '',\n",
       " 'waiter helpful friendly rarely checked us',\n",
       " 'husband ate lunch disappointed food service',\n",
       " 'red curry much bamboo shoots tasty',\n",
       " 'nice blanket moz top feel like done cover subpar food',\n",
       " 'bathrooms clean place well decorated',\n",
       " 'menu always changing food quality going service extremely slow',\n",
       " 'service little slow considering served people servers food coming slow pace',\n",
       " 'give thumbs',\n",
       " 'watched waiter pay lot attention tables ignore us',\n",
       " 'fianc came middle day greeted seated right away',\n",
       " 'great restaurant mandalay bay',\n",
       " 'waited forty five minutes vain',\n",
       " 'crostini came salad stale',\n",
       " 'highlights great quality nigiri',\n",
       " 'staff friendly joint always clean',\n",
       " 'different cut piece day still wonderful tender well well flavored',\n",
       " 'ordered voodoo pasta first time really excellent pasta since going gluten free several years ago',\n",
       " 'place good',\n",
       " 'unfortunately must hit bakery leftover day everything ordered stale',\n",
       " 'came back today since relocated still impressed',\n",
       " 'seated immediately',\n",
       " 'menu diverse reasonably priced',\n",
       " 'avoid cost',\n",
       " 'restaurant always full never wait',\n",
       " 'delicious',\n",
       " 'place hands one best places eat phoenix metro area',\n",
       " 'go looking good food',\n",
       " 'never treated bad',\n",
       " 'bacon hella salty',\n",
       " 'also ordered spinach avocado salad ingredients sad dressing literally zero taste',\n",
       " 'really vegas fine dining used right menus handed ladies prices listed',\n",
       " 'waitresses friendly',\n",
       " 'lordy khao soi dish missed curry lovers',\n",
       " 'everything menu terrific also thrilled made amazing accommodations vegetarian daughter',\n",
       " 'perhaps caught night judging reviews inspired go back',\n",
       " 'service leaves lot desired',\n",
       " 'atmosphere modern hip maintaining touch coziness',\n",
       " 'weekly haunt definitely place come back every',\n",
       " 'literally sat minutes one asking take order',\n",
       " 'burger absolutely flavor meat totally bland burger overcooked charcoal flavor',\n",
       " 'also decided send back waitress looked like verge heart attack',\n",
       " 'dressed treated rudely',\n",
       " 'probably dirt',\n",
       " 'love place hits spot want something healthy lacking quantity flavor',\n",
       " 'ordered lemon raspberry ice cocktail also incredible',\n",
       " 'food sucked expected sucked could imagined',\n",
       " 'interesting decor',\n",
       " 'really like crepe station',\n",
       " 'also served hot bread butter home made potato chips bacon bits top original good',\n",
       " 'watch preparing delicious food',\n",
       " 'egg rolls fantastic',\n",
       " 'order arrived one gyros missing',\n",
       " 'salad wings ice cream dessert left feeling quite satisfied',\n",
       " 'really sure joey voted best hot dog valley readers phoenix magazine',\n",
       " 'best place go tasty bowl pho',\n",
       " 'live music fridays totally blows',\n",
       " 'never insulted felt disrespected',\n",
       " 'friendly staff',\n",
       " 'worth drive',\n",
       " 'heard good things place exceeding every hope could dreamed',\n",
       " 'food great serivce',\n",
       " 'warm beer help',\n",
       " 'great brunch spot',\n",
       " 'service friendly inviting',\n",
       " 'good lunch spot',\n",
       " 'lived since first last time stepped foot place',\n",
       " 'worst experience ever',\n",
       " 'must night place',\n",
       " 'sides delish mixed mushrooms yukon gold puree white corn beateous',\n",
       " 'bug never showed would given sure side wall bug climbing kitchen',\n",
       " 'minutes waiting salad realized coming time soon',\n",
       " 'friend loved salmon tartar',\n",
       " 'go back',\n",
       " 'extremely tasty',\n",
       " 'waitress good though',\n",
       " 'soggy good',\n",
       " 'jamaican mojitos delicious',\n",
       " 'small worth price',\n",
       " 'food rich order accordingly',\n",
       " 'shower area outside rinse take full shower unless mind nude everyone see',\n",
       " 'service bit lacking',\n",
       " 'lobster bisque bussell sprouts risotto filet needed salt pepper course none tables',\n",
       " 'hopefully bodes going business someone cook come',\n",
       " 'either cold enough flavor bad',\n",
       " 'loved bacon wrapped dates',\n",
       " 'unbelievable bargain',\n",
       " 'folks otto always make us feel welcome special',\n",
       " 'mains also uninspired',\n",
       " 'place first pho amazing',\n",
       " 'wonderful experience made place must stop whenever town',\n",
       " 'food bad enough enjoy dealing world worst annoying drunk people',\n",
       " 'fun chef',\n",
       " 'ordered double cheeseburger got single patty falling apart picture uploaded yeah still sucks',\n",
       " 'great place couple drinks watch sporting events walls covered tv',\n",
       " 'possible give zero stars',\n",
       " 'descriptions said yum yum sauce another said eel sauce yet another said spicy mayo well none rolls sauces',\n",
       " 'say would hardest decision honestly dishes taste supposed taste amazing',\n",
       " 'rolled eyes may stayed sure go back try',\n",
       " 'everyone attentive providing excellent customer service',\n",
       " 'horrible waste time money',\n",
       " 'dish quite flavourful',\n",
       " 'time side restaurant almost empty excuse',\n",
       " 'busy either also building freezing cold',\n",
       " 'like reviewer said pay eat place',\n",
       " 'drinks took close minutes come one point',\n",
       " 'seriously flavorful delights folks',\n",
       " 'much better ayce sushi place went vegas',\n",
       " 'lighting dark enough set mood',\n",
       " 'based sub par service received effort show gratitude business going back',\n",
       " 'owner really great people',\n",
       " 'nothing privileged working eating',\n",
       " 'greek dressing creamy flavorful',\n",
       " 'overall think would take parents place made similar complaints silently felt',\n",
       " 'pizza good peanut sauce tasty',\n",
       " 'table service pretty fast',\n",
       " 'fantastic service',\n",
       " 'well would given godfathers zero stars possible',\n",
       " 'know make',\n",
       " 'tough short flavor',\n",
       " 'hope place sticks around',\n",
       " 'bars vegas ever recall charged tap water',\n",
       " 'restaurant atmosphere exquisite',\n",
       " 'good service clean inexpensive boot',\n",
       " 'seafood fresh generous portion',\n",
       " 'plus bucks',\n",
       " 'service par either',\n",
       " 'thus far visited twice food absolutely delicious time',\n",
       " 'good year ago',\n",
       " 'self proclaimed coffee cafe wildly disappointed',\n",
       " 'veggitarian platter world',\n",
       " 'cant go wrong food',\n",
       " 'beat',\n",
       " 'stopped place madison ironman friendly kind staff',\n",
       " 'chefs friendly good job',\n",
       " 'better dedicated boba tea spots even jenni pho',\n",
       " 'liked patio service outstanding',\n",
       " 'goat taco skimp meat wow flavor',\n",
       " 'think',\n",
       " 'mac salad pretty bland getting',\n",
       " 'went bachi burger friend recommendation disappointed',\n",
       " 'service stinks',\n",
       " 'waited waited',\n",
       " 'place quality sushi quality restaurant',\n",
       " 'would definitely recommend wings well pizza',\n",
       " 'great pizza salads',\n",
       " 'things went wrong burned saganaki',\n",
       " 'waited hour breakfast could done times better home',\n",
       " 'place amazing',\n",
       " 'hate disagree fellow yelpers husband disappointed place',\n",
       " 'waited hours never got either pizzas many around us came later',\n",
       " 'know slow',\n",
       " 'staff great food delish incredible beer selection',\n",
       " 'live neighborhood disappointed back convenient location',\n",
       " 'know pulled pork could soooo delicious',\n",
       " 'get incredibly fresh fish prepared care',\n",
       " 'go gave star rating please know third time eating bachi burger writing review',\n",
       " 'love fact everything menu worth',\n",
       " 'never dining place',\n",
       " 'food excellent service good',\n",
       " 'good beer drink selection good food selection',\n",
       " 'please stay away shrimp stir fried noodles',\n",
       " 'potato chip order sad could probably count many chips box probably around',\n",
       " 'food really boring',\n",
       " 'good service check',\n",
       " 'greedy corporation never see another dime',\n",
       " 'never ever go back',\n",
       " 'much like go back get passed atrocious service never return',\n",
       " 'summer dine charming outdoor patio delightful',\n",
       " 'expect good',\n",
       " 'fantastic food',\n",
       " 'ordered toasted english muffin came untoasted',\n",
       " 'food good',\n",
       " 'never going back',\n",
       " 'great food price high quality house made',\n",
       " 'bus boy hand rude',\n",
       " 'point friends basically figured place joke mind making publicly loudly known',\n",
       " 'back good bbq lighter fare reasonable pricing tell public back old ways',\n",
       " 'considering two us left full happy go wrong',\n",
       " 'bread made house',\n",
       " 'downside service',\n",
       " 'also fries without doubt worst fries ever',\n",
       " 'service exceptional food good reviews',\n",
       " 'couple months later returned amazing meal',\n",
       " 'favorite place town shawarrrrrrma',\n",
       " 'black eyed peas sweet potatoes unreal',\n",
       " 'disappointed',\n",
       " 'could serve vinaigrette may make better overall dish still good',\n",
       " 'go far many places never seen restaurant serves egg breakfast especially',\n",
       " 'mom got home immediately got sick bites salad',\n",
       " 'servers pleasant deal always honor pizza hut coupons',\n",
       " 'truly unbelievably good glad went back',\n",
       " 'fantastic service pleased atmosphere',\n",
       " 'everything gross',\n",
       " 'love place',\n",
       " 'great service food',\n",
       " 'first bathrooms location dirty seat covers replenished plain yucky',\n",
       " 'burger got gold standard burger kind disappointed',\n",
       " 'omg food delicioso',\n",
       " 'nothing authentic place',\n",
       " 'spaghetti nothing special whatsoever',\n",
       " 'dishes salmon best great',\n",
       " 'vegetables fresh sauce feels like authentic thai',\n",
       " 'worth driving tucson',\n",
       " 'selection probably worst seen vegas none',\n",
       " 'pretty good beer selection',\n",
       " 'place like chipotle better',\n",
       " 'classy warm atmosphere fun fresh appetizers succulent steaks baseball steak',\n",
       " 'stars brick oven bread app',\n",
       " 'eaten multiple times time food delicious',\n",
       " 'sat another ten minutes finally gave left',\n",
       " 'terrible',\n",
       " 'everyone treated equally special',\n",
       " 'take min pancakes eggs',\n",
       " 'delicious',\n",
       " 'good side staff genuinely pleasant enthusiastic real treat',\n",
       " 'sadly gordon ramsey steak place shall sharply avoid next trip vegas',\n",
       " 'always evening wonderful food delicious',\n",
       " 'best fish ever life',\n",
       " 'bathroom next door nice',\n",
       " 'buffet small food offered bland',\n",
       " 'outstanding little restaurant best food ever tasted',\n",
       " 'pretty cool would say',\n",
       " 'definitely turn doubt back unless someone else buying',\n",
       " 'server great job handling large rowdy table',\n",
       " 'find wasting food despicable food',\n",
       " 'wife lobster bisque soup lukewarm',\n",
       " 'would come back sushi craving vegas',\n",
       " 'staff great ambiance great',\n",
       " 'deserves stars',\n",
       " 'left stomach ache felt sick rest day',\n",
       " 'dropped ball',\n",
       " 'dining space tiny elegantly decorated comfortable',\n",
       " 'customize order way like usual eggplant green bean stir fry love',\n",
       " 'beans rice mediocre best',\n",
       " 'best tacos town far',\n",
       " 'took back money got outta',\n",
       " 'interesting part town place amazing',\n",
       " 'rude inconsiderate management',\n",
       " 'staff friendly wait times served horrible one even says hi first minutes',\n",
       " 'back',\n",
       " 'great dinners',\n",
       " 'service outshining definitely recommend halibut',\n",
       " 'food terrible',\n",
       " 'never ever go back told many people happened',\n",
       " 'recommend unless car breaks front starving',\n",
       " 'come back every time vegas',\n",
       " 'place deserves one star food',\n",
       " 'disgrace',\n",
       " 'def coming back bowl next time',\n",
       " 'want healthy authentic ethic food try place',\n",
       " 'continue come ladies night andddd date night highly recommend place anyone area',\n",
       " 'several times past experience always great',\n",
       " 'walked away stuffed happy first vegas buffet experience',\n",
       " 'service excellent prices pretty reasonable considering vegas located inside crystals shopping mall aria',\n",
       " 'summarize food incredible nay transcendant nothing brings joy quite like memory pneumatic condiment dispenser',\n",
       " 'probably one people ever go ians like',\n",
       " 'kids pizza always hit lots great side dish options kiddos',\n",
       " 'service perfect family atmosphere nice see',\n",
       " 'cooked perfection service impeccable',\n",
       " 'one simply disappointment',\n",
       " 'overall disappointed quality food bouchon',\n",
       " 'accountant know getting screwed',\n",
       " 'great place eat reminds little mom pop shops san francisco bay area',\n",
       " 'today first taste buldogis gourmet hot dog tell ever thought possible',\n",
       " 'left frustrated',\n",
       " 'definitely soon',\n",
       " 'food really good got full petty fast',\n",
       " 'service fantastic',\n",
       " 'total waste time',\n",
       " 'know kind best iced tea',\n",
       " 'come hungry leave happy stuffed',\n",
       " 'service give stars',\n",
       " 'assure disappointed',\n",
       " 'take little bad service food sucks',\n",
       " 'gave trying eat crust teeth still sore',\n",
       " 'completely grossed',\n",
       " 'really enjoyed eating',\n",
       " 'first time going think quickly become regular',\n",
       " 'server nice even though looked little overwhelmed needs stayed professional friendly end',\n",
       " 'dinner companions told everything fresh nice texture taste',\n",
       " 'ground right next table large smeared stepped tracked everywhere pile green bird poop',\n",
       " 'furthermore even find hours operation website',\n",
       " 'tried like place times think done',\n",
       " 'mistake',\n",
       " 'complaints',\n",
       " 'seriously good pizza expert connisseur topic',\n",
       " 'waiter jerk',\n",
       " 'strike wants rushed',\n",
       " 'nicest restaurant owners ever come across',\n",
       " 'never come',\n",
       " 'loved biscuits',\n",
       " 'service quick friendly',\n",
       " 'ordered appetizer took minutes pizza another minutes',\n",
       " 'absolutley fantastic',\n",
       " 'huge awkward lb piece cow ths gristle fat',\n",
       " 'definitely come back',\n",
       " 'like steiners dark feels like bar',\n",
       " 'wow spicy delicious',\n",
       " 'familiar check',\n",
       " 'take business dinner dollars elsewhere',\n",
       " 'love go back',\n",
       " 'anyway fs restaurant wonderful breakfast lunch',\n",
       " 'nothing special',\n",
       " 'day week different deal delicious',\n",
       " 'mention combination pears almonds bacon big winner',\n",
       " 'back',\n",
       " 'sauce tasteless',\n",
       " 'food delicious spicy enough sure ask spicier prefer way',\n",
       " 'ribeye steak cooked perfectly great mesquite flavor',\n",
       " 'think going back anytime soon',\n",
       " 'food gooodd',\n",
       " 'far sushi connoisseur definitely tell difference good food bad food certainly bad food',\n",
       " 'insulted',\n",
       " 'last times lunch bad',\n",
       " 'chicken wings contained driest chicken meat ever eaten',\n",
       " 'food good enjoyed every mouthful enjoyable relaxed venue couples small family groups etc',\n",
       " 'nargile think great',\n",
       " 'best tater tots southwest',\n",
       " 'loved place',\n",
       " 'definitely worth paid',\n",
       " 'vanilla ice cream creamy smooth profiterole choux pastry fresh enough',\n",
       " 'im az time new spot',\n",
       " 'manager worst',\n",
       " 'inside really quite nice clean',\n",
       " 'food outstanding prices reasonable',\n",
       " 'think running back carly anytime soon food',\n",
       " 'due fact took minutes acknowledged another minutes get food kept forgetting things',\n",
       " 'love margaritas',\n",
       " 'first vegas buffet disappoint',\n",
       " 'good though',\n",
       " 'one note ventilation could use upgrading',\n",
       " 'great pork sandwich',\n",
       " 'waste time',\n",
       " 'total letdown would much rather go camelback flower shop cartel coffee',\n",
       " 'third cheese friend burger cold',\n",
       " 'enjoy pizza brunch',\n",
       " 'steaks well trimmed also perfectly cooked',\n",
       " 'group claimed would handled us beautifully',\n",
       " 'loved',\n",
       " 'asked bill leave without eating bring either',\n",
       " 'place jewel las vegas exactly hoping find nearly ten years living',\n",
       " 'seafood limited boiled shrimp crab legs crab legs definitely taste fresh',\n",
       " 'selection food best',\n",
       " 'delicious absolutely back',\n",
       " 'small family restaurant fine dining establishment',\n",
       " 'toro tartare cavier extraordinary liked thinly sliced wagyu white truffle',\n",
       " 'dont think back long time',\n",
       " 'attached gas station rarely good sign',\n",
       " 'awesome',\n",
       " 'back many times soon',\n",
       " 'menu much good stuff could decide',\n",
       " 'worse humiliated worker right front bunch horrible name callings',\n",
       " 'conclusion filling meals',\n",
       " 'daily specials always hit group',\n",
       " 'tragedy struck',\n",
       " 'pancake also really good pretty large',\n",
       " 'first crawfish experience delicious',\n",
       " 'monster chicken fried steak eggs time favorite',\n",
       " 'waitress sweet funny',\n",
       " 'also taste mom multi grain pumpkin pancakes pecan butter amazing fluffy delicious',\n",
       " 'rather eat airline food seriously',\n",
       " 'cant say enough good things place',\n",
       " 'ambiance incredible',\n",
       " 'waitress manager friendly',\n",
       " 'would recommend place',\n",
       " 'overall impressed noca',\n",
       " 'gyro basically lettuce',\n",
       " 'terrible service',\n",
       " 'thoroughly disappointed',\n",
       " 'much pasta love homemade hand made pastas thin pizzas',\n",
       " 'give try happy',\n",
       " 'far best cheesecurds ever',\n",
       " 'reasonably priced also',\n",
       " 'everything perfect night',\n",
       " 'food good typical bar food',\n",
       " 'drive get',\n",
       " 'first glance lovely bakery cafe nice ambiance clean friendly staff',\n",
       " 'anyway think go back',\n",
       " 'point finger item menu order disappointed',\n",
       " 'oh thing beauty restaurant',\n",
       " 'gone go',\n",
       " 'greasy unhealthy meal',\n",
       " 'first time might last',\n",
       " 'burgers amazing',\n",
       " 'similarly delivery man say word apology food minutes late',\n",
       " 'way expensive',\n",
       " 'sure order dessert even need pack go tiramisu cannoli die',\n",
       " 'first time wait next',\n",
       " 'bartender also nice',\n",
       " 'everything good tasty',\n",
       " 'place two thumbs way',\n",
       " 'best place vegas breakfast check sat sun',\n",
       " 'love authentic mexican food want whole bunch interesting yet delicious meats choose need try place',\n",
       " 'terrible management',\n",
       " 'excellent new restaurant experienced frenchman',\n",
       " 'zero stars would give zero stars',\n",
       " 'great steak great sides great wine amazing desserts',\n",
       " 'worst martini ever',\n",
       " 'steak shrimp opinion best entrees gc',\n",
       " 'opportunity today sample amazing pizzas',\n",
       " 'waited thirty minutes seated although vacant tables folks waiting',\n",
       " 'yellowtail carpaccio melt mouth fresh',\n",
       " 'try going back even empty',\n",
       " 'going eat potato found strangers hair',\n",
       " 'spicy enough perfect actually',\n",
       " 'last night second time dining happy decided go back',\n",
       " 'even hello right',\n",
       " 'desserts bit strange',\n",
       " 'boyfriend came first time recent trip vegas could pleased quality food service',\n",
       " 'really recommend place go wrong donut place',\n",
       " 'nice ambiance',\n",
       " 'would recommend saving room',\n",
       " 'guess maybe went night disgraceful',\n",
       " 'however recent experience particular location good',\n",
       " 'know like restaurants something',\n",
       " 'avoid establishment',\n",
       " 'think restaurant suffers trying hard enough',\n",
       " 'tapas dishes delicious',\n",
       " 'heart place',\n",
       " 'salad bland vinegrette baby greens hearts palm',\n",
       " 'two felt disgusting',\n",
       " 'good time',\n",
       " 'believe place great stop huge belly hankering sushi',\n",
       " 'generous portions great taste',\n",
       " 'never go back place never ever recommended place anyone',\n",
       " 'servers went back forth several times even much helped',\n",
       " 'food delicious',\n",
       " 'hour seriously',\n",
       " 'consider theft',\n",
       " 'eew location needs complete overhaul',\n",
       " 'recently witnessed poor quality management towards guests well',\n",
       " 'waited waited waited',\n",
       " 'also came back check us regularly excellent service',\n",
       " 'server super nice checked us many times',\n",
       " 'pizza tasted old super chewy good way',\n",
       " 'swung give try deeply disappointed',\n",
       " 'service good company better',\n",
       " 'staff also friendly efficient',\n",
       " 'service fan quick served nice folks',\n",
       " 'boy sucker dry',\n",
       " 'rated',\n",
       " 'look authentic thai food go else',\n",
       " 'steaks recommended',\n",
       " 'pulled car waited another minutes acknowledged',\n",
       " 'great food great service clean friendly setting',\n",
       " 'assure back',\n",
       " 'hate things much cheap quality black olives',\n",
       " 'breakfast perpared great beautiful presentation giant slices toast lightly dusted powdered sugar',\n",
       " 'kids play area nasty',\n",
       " 'great place fo take eat',\n",
       " 'waitress friendly happy accomodate vegan veggie options',\n",
       " 'omg felt like never eaten thai food dish',\n",
       " 'extremely crumby pretty tasteless',\n",
       " 'pale color instead nice char flavor',\n",
       " 'croutons also taste homemade extra plus',\n",
       " 'got home see driest damn wings ever',\n",
       " 'regular stop trips phoenix',\n",
       " 'really enjoyed crema caf expanded even told friends best breakfast',\n",
       " 'good money',\n",
       " 'miss wish one philadelphia',\n",
       " 'got sitting fairly fast ended waiting minutes place order another minutes food arrived',\n",
       " 'also best cheese crisp town',\n",
       " 'good value great food great service',\n",
       " 'ask satisfying meal',\n",
       " 'food good',\n",
       " 'awesome',\n",
       " 'wanted leave',\n",
       " 'made drive way north scottsdale one bit disappointed',\n",
       " 'eating',\n",
       " 'owners really really need quit soooooo cheap let wrap freaking sandwich two papers one',\n",
       " 'checked place couple years ago impressed',\n",
       " 'chicken got definitely reheated ok wedges cold soggy',\n",
       " 'sorry getting food anytime soon',\n",
       " 'absolute must visit',\n",
       " 'cow tongue cheek tacos amazing',\n",
       " 'friend like bloody mary',\n",
       " 'despite hard rate businesses actually rare give star',\n",
       " 'really want make experience good one',\n",
       " 'return',\n",
       " 'chicken pho tasted bland',\n",
       " 'disappointing',\n",
       " 'grilled chicken tender yellow saffron seasoning',\n",
       " 'drive thru means want wait around half hour food somehow end going make us wait wait',\n",
       " 'pretty awesome place',\n",
       " 'ambience perfect',\n",
       " 'best luck rude non customer service focused new management',\n",
       " 'grandmother make roasted chicken better one',\n",
       " 'asked multiple times wine list time ignored went hostess got one',\n",
       " 'staff always super friendly helpful especially cool bring two small boys baby',\n",
       " 'four stars food guy blue shirt great vibe still letting us eat',\n",
       " 'roast beef sandwich tasted really good',\n",
       " 'evening drastically sick',\n",
       " 'high quality chicken chicken caesar salad',\n",
       " 'ordered burger rare came done',\n",
       " 'promptly greeted seated',\n",
       " 'tried go lunch madhouse',\n",
       " 'proven dead wrong sushi bar quality great service fast food impeccable',\n",
       " 'waiting hour seated greatest moods',\n",
       " 'good joint',\n",
       " 'macarons insanely good',\n",
       " 'eating',\n",
       " 'waiter attentive friendly informative',\n",
       " 'maybe cold would somewhat edible',\n",
       " 'place lot promise fails deliver',\n",
       " 'bad experience',\n",
       " 'mistake',\n",
       " 'food average best',\n",
       " 'great food',\n",
       " 'going back anytime soon',\n",
       " 'disappointed ordered big bay plater',\n",
       " 'great place relax awesome burger beer',\n",
       " 'perfect sit family meal get together friends',\n",
       " 'much flavor poorly constructed',\n",
       " 'patio seating comfortable',\n",
       " 'fried rice dry well',\n",
       " 'hands favorite italian restaurant',\n",
       " 'screams legit book somethat also pretty rare vegas',\n",
       " 'fun experience',\n",
       " 'atmosphere great lovely duo violinists playing songs requested',\n",
       " 'personally love hummus pita baklava falafels baba ganoush amazing eggplant',\n",
       " 'convenient since staying mgm',\n",
       " 'owners super friendly staff courteous',\n",
       " 'great',\n",
       " 'eclectic selection',\n",
       " 'sweet potato tots good onion rings perfection close',\n",
       " 'staff attentive',\n",
       " 'chef generous time even came around twice take pictures',\n",
       " 'owner used work nobu place really similar half price',\n",
       " 'google mediocre imagine smashburger pop',\n",
       " 'dont go',\n",
       " 'promise disappoint',\n",
       " 'sushi lover avoid place means',\n",
       " 'great double cheeseburger',\n",
       " 'awesome service food',\n",
       " 'fantastic neighborhood gem',\n",
       " 'wait go back',\n",
       " 'plantains worst ever tasted',\n",
       " 'great place highly recommend',\n",
       " 'service slow attentive',\n",
       " 'gave stars giving stars',\n",
       " 'staff spends time talking',\n",
       " 'dessert panna cotta amazing',\n",
       " 'good food great atmosphere',\n",
       " 'damn good steak',\n",
       " 'total brunch fail',\n",
       " 'prices reasonable flavors spot sauce home made slaw drenched mayo',\n",
       " 'decor nice piano music soundtrack pleasant',\n",
       " 'steak amazing rge fillet relleno best seafood plate ever',\n",
       " 'good food good service',\n",
       " 'absolutely amazing',\n",
       " 'probably back honest',\n",
       " 'definitely back',\n",
       " 'sergeant pepper beef sandwich auju sauce excellent sandwich well',\n",
       " 'hawaiian breeze mango magic pineapple delight smoothies tried far good',\n",
       " 'went lunch service slow',\n",
       " 'much say place walked expected amazing quickly disappointed',\n",
       " 'mortified',\n",
       " 'needless say never back',\n",
       " 'anyways food definitely filling price pay expect',\n",
       " 'chips came dripping grease mostly edible',\n",
       " 'really impressed strip steak',\n",
       " 'going since every meal awesome',\n",
       " 'server nice attentive serving staff',\n",
       " 'cashier friendly even brought food',\n",
       " 'work hospitality industry paradise valley refrained recommending cibo longer',\n",
       " 'atmosphere fun',\n",
       " 'would recommend others',\n",
       " 'service quick even go orders like like',\n",
       " 'mean really get famous fish chips terrible',\n",
       " 'said mouths bellies still quite pleased',\n",
       " 'thing',\n",
       " 'thumbs',\n",
       " 'reading please go',\n",
       " 'loved grilled pizza reminded legit italian pizza',\n",
       " 'pros large seating area nice bar area great simple drink menu best brick oven pizza homemade dough',\n",
       " 'really nice atmosphere',\n",
       " 'tonight elk filet special sucked',\n",
       " 'one bite hooked',\n",
       " 'ordered old classics new dishes going times sorely disappointed everything',\n",
       " 'cute quaint simple honest',\n",
       " 'chicken deliciously seasoned perfect fry outside moist chicken inside',\n",
       " 'food great always compliments chef',\n",
       " 'special thanks dylan recommendation order yummy tummy',\n",
       " 'awesome selection beer',\n",
       " 'great food awesome service',\n",
       " 'one nice thing added gratuity bill since party larger expect tip',\n",
       " 'fly apple juice fly',\n",
       " 'han nan chicken also tasty',\n",
       " 'service thought good',\n",
       " 'food barely lukewarm must sitting waiting server bring us',\n",
       " 'ryan bar definitely one edinburgh establishment revisiting',\n",
       " 'nicest chinese restaurant',\n",
       " 'overall like food service',\n",
       " 'also serve indian naan bread hummus spicy pine nut sauce world',\n",
       " 'probably never coming back recommend',\n",
       " 'friend pasta also bad barely touched',\n",
       " 'try airport experience tasty food speedy friendly service',\n",
       " 'love decor chinese calligraphy wall paper',\n",
       " 'never anything complain',\n",
       " 'restaurant clean family restaurant feel',\n",
       " 'way fried',\n",
       " 'sure long stood long enough begin feel awkwardly place',\n",
       " 'opened sandwich impressed good way',\n",
       " 'back',\n",
       " 'warm feeling service felt like guest special treat',\n",
       " 'extensive menu provides lots options breakfast',\n",
       " 'always order vegetarian menu dinner wide array options choose',\n",
       " 'watched prices inflate portions get smaller management attitudes grow rapidly',\n",
       " 'wonderful lil tapas ambience made feel warm fuzzy inside',\n",
       " 'got enjoy seafood salad fabulous vinegrette',\n",
       " 'wontons thin thick chewy almost melt mouth',\n",
       " 'level spicy perfect spice whelm soup',\n",
       " 'sat right time server get go fantastic',\n",
       " 'main thing enjoy crowd older crowd around mid',\n",
       " 'side town definitely spot hit',\n",
       " 'wait minutes get drink longer get arepas',\n",
       " 'great place eat',\n",
       " 'jalapeno bacon soooo good',\n",
       " 'service poor thats nice',\n",
       " 'food good service good prices good',\n",
       " 'place clean food oh stale',\n",
       " 'chicken dishes ok beef like shoe leather',\n",
       " 'service beyond bad',\n",
       " 'happy',\n",
       " 'tasted like dirt',\n",
       " 'one places phoenix would definately go back',\n",
       " 'block amazing',\n",
       " 'close house low key non fancy affordable prices good food',\n",
       " 'hot sour egg flower soups absolutely stars',\n",
       " 'sashimi poor quality soggy tasteless',\n",
       " 'great time family dinner sunday night',\n",
       " 'food tasty say real traditional hunan style',\n",
       " 'bother slow service',\n",
       " 'flair bartenders absolutely amazing',\n",
       " 'frozen margaritas way sugary taste',\n",
       " 'good ordered twice',\n",
       " 'nutshell restaraunt smells like combination dirty fish market sewer',\n",
       " 'girlfriend veal bad',\n",
       " 'unfortunately good',\n",
       " 'pretty satifying experience',\n",
       " 'join club get awesome offers via email',\n",
       " 'perfect someone likes beer ice cold case even colder',\n",
       " 'bland flavorless good way describing barely tepid meat',\n",
       " 'chains fan beat place easily',\n",
       " 'nachos must',\n",
       " 'coming back',\n",
       " 'many words say place everything pretty well',\n",
       " 'staff super nice quick even crazy crowds downtown juries lawyers court staff',\n",
       " 'great atmosphere friendly fast service',\n",
       " 'received pita huge lot meat thumbs',\n",
       " 'food arrives meh',\n",
       " 'paying hot dog fries looks like came kid meal wienerschnitzel idea good meal',\n",
       " 'classic maine lobster roll fantastic',\n",
       " 'brother law works mall ate day guess sick night',\n",
       " 'good going review place twice hereas tribute place tribute event held last night',\n",
       " 'chips salsa really good salsa fresh',\n",
       " 'place great',\n",
       " 'mediocre food',\n",
       " 'get inside impressed place',\n",
       " 'super pissd',\n",
       " 'service super friendly',\n",
       " 'sad little vegetables overcooked',\n",
       " 'place nice surprise',\n",
       " 'golden crispy delicious',\n",
       " 'high hopes place since burgers cooked charcoal grill unfortunately taste fell flat way flat',\n",
       " 'could eat bruschetta day devine',\n",
       " 'single employee came see ok even needed water refill finally served us food',\n",
       " 'lastly mozzarella sticks best thing ordered',\n",
       " 'first time ever came amazing experience still tell people awesome duck',\n",
       " 'server negligent needs made us feel unwelcome would suggest place',\n",
       " 'service terrible though',\n",
       " 'place overpriced consistent boba really overpriced',\n",
       " 'packed',\n",
       " 'love place',\n",
       " 'say desserts yummy',\n",
       " 'food terrible',\n",
       " 'seasonal fruit fresh white peach puree',\n",
       " 'kept getting worse worse officially done',\n",
       " 'place honestly blown',\n",
       " 'definitely would eat',\n",
       " 'waste money',\n",
       " 'love put food nice plastic containers opposed cramming little paper takeout boxes',\n",
       " 'cr pe delicate thin moist',\n",
       " 'awful service',\n",
       " 'ever go',\n",
       " 'food quality horrible',\n",
       " 'price think place would much rather gone',\n",
       " 'service fair best',\n",
       " 'love sushi found kabuki priced hip services',\n",
       " 'favor stay away dish',\n",
       " 'poor service',\n",
       " 'one table thought food average worth wait',\n",
       " 'best service food ever maria server good friendly made day',\n",
       " 'excellent',\n",
       " 'paid bill tip felt server terrible job',\n",
       " 'lunch great experience',\n",
       " 'never bland food surprised considering article read focused much spices flavor',\n",
       " 'food way overpriced portions fucking small',\n",
       " 'recently tried caballero back every week since',\n",
       " 'bucks head really expect better food',\n",
       " 'food came good pace',\n",
       " 'ate twice last visit especially enjoyed salmon salad',\n",
       " 'back',\n",
       " 'could believe dirty oysters',\n",
       " 'place deserves stars',\n",
       " 'would recommend place',\n",
       " 'fact going round stars awesome',\n",
       " 'disbelief dish qualified worst version foods ever tasted',\n",
       " 'bad day low tolerance rude customer service people job nice polite wash dishes otherwise',\n",
       " 'potatoes great biscuit',\n",
       " 'probably would go',\n",
       " 'flavorful perfect amount heat',\n",
       " 'price reasonable service great',\n",
       " 'wife hated meal coconut shrimp friends really enjoy meals either',\n",
       " 'fella got huevos rancheros look appealing',\n",
       " 'went happy hour great list wines',\n",
       " 'may say buffet pricey think get pay place getting quite lot',\n",
       " 'probably coming back',\n",
       " 'worst food service',\n",
       " 'place pretty good nice little vibe restaurant',\n",
       " 'talk great customer service course back',\n",
       " 'hot dishes hot cold dishes close room temp watched staff prepare food bare hands gloves everything deep fried oil',\n",
       " 'love fries beans',\n",
       " 'always pleasure dealing',\n",
       " 'plethora salads sandwiches everything tried gets seal approval',\n",
       " 'place awesome want something light healthy summer',\n",
       " 'sushi strip place go',\n",
       " 'service great even manager came helped table',\n",
       " 'feel dining room college cooking course high class dining service slow best',\n",
       " 'started review two stars editing give one',\n",
       " 'worst sushi ever eat besides costco',\n",
       " 'excellent restaurant highlighted great service unique menu beautiful setting',\n",
       " 'boyfriend sat bar completely delightful experience',\n",
       " 'weird vibe owners',\n",
       " 'hardly meat',\n",
       " 'better bagels grocery store',\n",
       " 'go place gyros',\n",
       " 'love owner chef one authentic japanese cool dude',\n",
       " 'burgers good pizza used amazing doughy flavorless',\n",
       " 'found six inch long piece wire salsa',\n",
       " 'service terrible food mediocre',\n",
       " 'definately enjoyed',\n",
       " 'ordered albondigas soup warm tasted like tomato soup frozen meatballs',\n",
       " 'three different occasions asked well done medium well three times got bloodiest piece meat plate',\n",
       " 'two bites refused eat anymore',\n",
       " 'service extremely slow',\n",
       " 'minutes wait got table',\n",
       " 'seriously killer hot chai latte',\n",
       " 'allergy warnings menu waitress absolutely clue meals contain peanuts',\n",
       " 'boyfriend tried mediterranean chicken salad fell love',\n",
       " 'rotating beers tap also highlight place',\n",
       " 'pricing bit concern mellow mushroom',\n",
       " 'worst thai ever',\n",
       " 'stay vegas must get breakfast least',\n",
       " 'want first say server great perfect service',\n",
       " 'pizza selections good',\n",
       " 'strawberry tea good',\n",
       " 'highly unprofessional rude loyal patron',\n",
       " 'overall great experience',\n",
       " 'spend money elsewhere',\n",
       " 'regular toasted bread equally satisfying occasional pats butter mmmm',\n",
       " 'buffet bellagio far anticipated',\n",
       " 'drinks weak people',\n",
       " 'order correct',\n",
       " 'also feel like chips bought made house',\n",
       " 'disappointing dinner went elsewhere dessert',\n",
       " 'chips sals amazing',\n",
       " 'returning',\n",
       " 'new fav vegas buffet spot',\n",
       " 'seriously cannot believe owner many unexperienced employees running around like chickens heads cut',\n",
       " 'sad',\n",
       " 'felt insulted disrespected could talk judge another human like',\n",
       " 'call steakhouse properly cook steak understand',\n",
       " 'impressed concept food',\n",
       " 'thing crazy guacamole like pur ed',\n",
       " 'really nothing postinos hope experience better',\n",
       " 'got food poisoning buffet',\n",
       " 'brought fresh batch fries thinking yay something warm',\n",
       " 'hilarious yummy christmas eve dinner remember biggest fail entire trip us',\n",
       " 'needless say going back anytime soon',\n",
       " 'place disgusting',\n",
       " 'every time eat see caring teamwork professional degree',\n",
       " 'ri style calamari joke',\n",
       " 'however much garlic fondue barely edible',\n",
       " 'could barely stomach meal complain business lunch',\n",
       " 'bad lost heart finish',\n",
       " 'also took forever bring us check asked',\n",
       " 'ones make scene restaurants get definitely lost love one',\n",
       " 'disappointing experience',\n",
       " 'food par denny say good',\n",
       " 'want wait mediocre food downright terrible service place',\n",
       " 'waaaaaayyyyyyyyyy rated saying',\n",
       " 'going back',\n",
       " 'place fairly clean food simply worth',\n",
       " 'place lacked style',\n",
       " 'sangria half glass wine full ridiculous',\n",
       " 'bother coming',\n",
       " 'meat pretty dry sliced brisket pulled pork',\n",
       " 'building seems pretty neat bathroom pretty trippy eat',\n",
       " 'equally awful',\n",
       " 'probably hurry go back',\n",
       " 'slow seating even reservation',\n",
       " 'good stretch imagination',\n",
       " 'cashew cream sauce bland vegetables undercooked',\n",
       " 'chipolte ranch dipping sause tasteless seemed thin watered heat',\n",
       " 'bit sweet really spicy enough lacked flavor',\n",
       " 'disappointed',\n",
       " 'place horrible way overpriced',\n",
       " 'maybe vegetarian fare twice thought average best',\n",
       " 'busy know',\n",
       " 'tables outside also dirty lot time workers always friendly helpful menu',\n",
       " 'ambiance feel like buffet setting douchey indoor garden tea biscuits',\n",
       " 'con spotty service',\n",
       " 'fries hot neither burger',\n",
       " 'came back cold',\n",
       " 'food came disappointment ensued',\n",
       " 'real disappointment waiter',\n",
       " 'husband said rude even apologize bad food anything',\n",
       " 'reason eat would fill night binge drinking get carbs stomach',\n",
       " 'insults profound deuchebaggery go outside smoke break serving solidify',\n",
       " 'someone orders two tacos think may part customer service ask combo ala cart',\n",
       " 'quite disappointed although blame needs placed door',\n",
       " 'rave reviews wait eat disappointment',\n",
       " 'del taco pretty nasty avoided possible',\n",
       " 'hard make decent hamburger',\n",
       " 'like',\n",
       " 'hell go back',\n",
       " 'gotten much better service pizza place next door services received restaurant',\n",
       " 'know big deal place back ya',\n",
       " 'immediately said wanted talk manager want talk guy shots fireball behind bar',\n",
       " 'ambiance much better',\n",
       " 'unfortunately set us disapppointment entrees',\n",
       " 'food good',\n",
       " 'servers suck wait correction server heimer sucked',\n",
       " 'happened next pretty putting',\n",
       " 'bad cause know family owned really wanted like place',\n",
       " 'overpriced getting',\n",
       " 'vomited bathroom mid lunch',\n",
       " 'kept looking time soon become minutes yet still food',\n",
       " 'places eat circumstances would ever return tops list',\n",
       " 'started tuna sashimi brownish color obviously fresh',\n",
       " 'food average',\n",
       " 'sure beat nachos movies would expect little bit coming restaurant',\n",
       " 'ha long bay bit flop',\n",
       " 'problem charge sandwich bigger subway sub offers better amount vegetables',\n",
       " 'shrimp unwrapped live mile brushfire literally ice cold',\n",
       " 'lacked flavor seemed undercooked dry',\n",
       " 'really impressive place closed',\n",
       " 'would avoid place staying mirage',\n",
       " 'refried beans came meal dried crusty food bland',\n",
       " 'spend money time place else',\n",
       " 'lady table next us found live green caterpillar salad',\n",
       " 'presentation food awful',\n",
       " 'tell disappointed',\n",
       " 'think food flavor texture lacking',\n",
       " 'appetite instantly gone',\n",
       " 'overall impressed would go back',\n",
       " 'whole experience underwhelming think go ninja sushi next time',\n",
       " 'wasted enough life poured salt wound drawing time took bring check']"
      ]
     },
     "execution_count": 11,
     "metadata": {},
     "output_type": "execute_result"
    }
   ],
   "source": [
    "corpus[:1000]"
   ]
  },
  {
   "cell_type": "code",
   "execution_count": 12,
   "metadata": {
    "id": "sHubM5VqCwwo"
   },
   "outputs": [],
   "source": [
    "from sklearn.feature_extraction.text import CountVectorizer\n",
    "cv=CountVectorizer(max_features=1500)"
   ]
  },
  {
   "cell_type": "code",
   "execution_count": 13,
   "metadata": {
    "id": "TM0foHsPHfAf"
   },
   "outputs": [],
   "source": [
    "x=cv.fit_transform(corpus).toarray()"
   ]
  },
  {
   "cell_type": "code",
   "execution_count": 14,
   "metadata": {
    "colab": {
     "base_uri": "https://localhost:8080/"
    },
    "id": "W3Exm3iMHqDE",
    "outputId": "7778e313-f753-4ed2-a9be-47d786110e57"
   },
   "outputs": [
    {
     "data": {
      "text/plain": [
       "(1000, 1500)"
      ]
     },
     "execution_count": 14,
     "metadata": {},
     "output_type": "execute_result"
    }
   ],
   "source": [
    "x.shape"
   ]
  },
  {
   "cell_type": "code",
   "execution_count": 15,
   "metadata": {
    "colab": {
     "base_uri": "https://localhost:8080/"
    },
    "id": "uK2_aE1qHrpn",
    "outputId": "82df988b-e867-489f-9057-2f8206b6aa6b"
   },
   "outputs": [
    {
     "data": {
      "text/plain": [
       "array([0, 0, 0, ..., 0, 0, 0], dtype=int64)"
      ]
     },
     "execution_count": 15,
     "metadata": {},
     "output_type": "execute_result"
    }
   ],
   "source": [
    "x[0]"
   ]
  },
  {
   "cell_type": "code",
   "execution_count": 16,
   "metadata": {
    "colab": {
     "base_uri": "https://localhost:8080/"
    },
    "id": "1BqM-UvuH55R",
    "outputId": "6edb239b-e7af-4a42-f166-0c1163e36a41"
   },
   "outputs": [
    {
     "data": {
      "text/plain": [
       "1"
      ]
     },
     "execution_count": 16,
     "metadata": {},
     "output_type": "execute_result"
    }
   ],
   "source": [
    "x[0].max()"
   ]
  },
  {
   "cell_type": "code",
   "execution_count": 17,
   "metadata": {
    "id": "1tVejmMbH-PL"
   },
   "outputs": [],
   "source": [
    "y=df.iloc[:,-1].values"
   ]
  },
  {
   "cell_type": "code",
   "execution_count": 18,
   "metadata": {
    "colab": {
     "base_uri": "https://localhost:8080/"
    },
    "id": "4firHd4VIEja",
    "outputId": "a45a49ce-8671-4520-8cbb-12f5174f4d90"
   },
   "outputs": [
    {
     "data": {
      "text/plain": [
       "(1000,)"
      ]
     },
     "execution_count": 18,
     "metadata": {},
     "output_type": "execute_result"
    }
   ],
   "source": [
    "y.shape"
   ]
  },
  {
   "cell_type": "code",
   "execution_count": 19,
   "metadata": {
    "id": "GbSAqLzIIHST"
   },
   "outputs": [],
   "source": [
    "from sklearn.model_selection import train_test_split"
   ]
  },
  {
   "cell_type": "code",
   "execution_count": 20,
   "metadata": {
    "id": "GaJ1pAlDJIv2"
   },
   "outputs": [],
   "source": [
    "# train test split\n",
    "x_train, x_test, y_train, y_test = train_test_split(x, y, test_size=0.2, random_state=104)"
   ]
  },
  {
   "cell_type": "code",
   "execution_count": 21,
   "metadata": {
    "id": "eBG2e2EZJcjg"
   },
   "outputs": [],
   "source": [
    "from sklearn.naive_bayes import GaussianNB,MultinomialNB,BernoulliNB"
   ]
  },
  {
   "cell_type": "code",
   "execution_count": 22,
   "metadata": {
    "id": "CB_1j-aBJmiT"
   },
   "outputs": [],
   "source": [
    "clf1=GaussianNB()\n",
    "clf2=MultinomialNB()\n",
    "clf3=BernoulliNB()"
   ]
  },
  {
   "cell_type": "code",
   "execution_count": 23,
   "metadata": {
    "colab": {
     "base_uri": "https://localhost:8080/",
     "height": 80
    },
    "id": "oiDH12FeJrYZ",
    "outputId": "ccf2caf3-5ad3-4bad-be21-5964f76b92f0"
   },
   "outputs": [
    {
     "data": {
      "text/plain": [
       "BernoulliNB()"
      ]
     },
     "execution_count": 23,
     "metadata": {},
     "output_type": "execute_result"
    }
   ],
   "source": [
    "clf1.fit(x_train,y_train)\n",
    "clf2.fit(x_train,y_train)\n",
    "clf3.fit(x_train,y_train)"
   ]
  },
  {
   "cell_type": "code",
   "execution_count": 24,
   "metadata": {
    "id": "IrLnKpMwK9Ay"
   },
   "outputs": [],
   "source": [
    "from sklearn.metrics import accuracy_score"
   ]
  },
  {
   "cell_type": "code",
   "execution_count": 25,
   "metadata": {
    "id": "ZeNQ7bfJKPbl"
   },
   "outputs": [],
   "source": [
    "y_predG=clf1.predict(x_test)\n",
    "y_predM=clf2.predict(x_test)\n",
    "y_predB=clf3.predict(x_test)"
   ]
  },
  {
   "cell_type": "code",
   "execution_count": 26,
   "metadata": {
    "colab": {
     "base_uri": "https://localhost:8080/"
    },
    "id": "3-Q0cvuZKtUs",
    "outputId": "27d09853-37a2-417e-d674-e0c9ae862e79"
   },
   "outputs": [
    {
     "name": "stdout",
     "output_type": "stream",
     "text": [
      "GaussianNB [1 1 0 1 0 1 1 0 1 1 0 1 0 1 1 1 1 1 1 1 1 1 0 0 1 0 1 0 0 1 1 0 0 1 0 1 0\n",
      " 0 1 1 0 1 1 1 0 1 1 1 1 1 0 1 0 1 1 0 1 1 0 1 1 0 1 0 1 1 0 1 1 1 1 0 0 1\n",
      " 0 0 1 1 1 0 1 0 1 0 1 1 1 1 0 1 0 0 1 1 0 0 0 1 1 0 0 1 1 0 0 0 0 0 0 0 1\n",
      " 1 0 1 0 1 1 1 0 1 1 1 1 1 0 1 1 1 1 0 1 0 0 1 1 1 0 0 0 1 1 0 0 0 1 1 1 1\n",
      " 1 1 0 1 0 0 1 1 0 1 1 1 0 1 0 1 1 1 1 1 1 0 1 1 1 0 1 0 0 1 0 1 1 0 0 1 0\n",
      " 1 1 0 1 0 1 1 0 0 1 1 1 0 1 1]\n",
      "MultinomialNB [1 1 0 1 0 1 1 0 0 1 0 0 0 1 1 1 1 1 1 0 1 1 0 0 0 0 0 0 0 1 1 0 0 0 1 1 1\n",
      " 0 1 0 0 1 1 1 0 1 1 1 1 1 0 1 0 1 1 0 1 1 0 1 1 0 0 0 1 1 0 1 1 1 1 0 1 1\n",
      " 0 0 1 0 1 0 1 0 1 0 1 1 1 1 0 1 0 0 1 1 1 0 0 0 0 0 1 1 0 0 0 0 0 0 0 0 0\n",
      " 1 0 1 0 0 1 1 0 1 1 1 1 1 0 1 0 0 1 0 1 0 0 1 1 1 1 0 0 1 1 1 0 0 1 1 1 1\n",
      " 1 1 0 1 1 0 1 1 1 1 1 1 0 0 0 0 0 1 1 1 1 0 0 1 1 0 1 0 1 1 0 1 1 0 0 1 0\n",
      " 1 0 0 1 1 1 1 0 0 1 1 1 0 1 1]\n",
      "BernoulliNB [1 1 0 1 0 1 1 0 0 1 0 0 0 1 1 1 1 1 1 0 1 1 0 0 0 0 0 0 0 1 1 0 0 0 1 1 1\n",
      " 0 1 0 0 1 1 1 0 1 1 1 1 1 0 1 0 1 1 0 1 1 0 1 1 0 0 0 1 1 0 1 1 1 1 0 1 1\n",
      " 0 0 1 0 1 0 1 0 1 0 0 1 1 1 0 1 0 0 1 1 1 0 0 0 0 0 1 1 0 0 0 0 0 0 0 0 0\n",
      " 1 0 1 1 0 1 1 0 1 1 1 1 1 0 1 0 0 1 0 1 0 0 1 1 1 1 0 0 1 1 1 0 0 1 1 1 1\n",
      " 1 1 0 1 1 0 1 1 1 1 0 1 0 0 0 0 0 1 1 1 1 0 1 1 1 0 1 0 1 1 0 1 1 0 0 1 0\n",
      " 1 0 0 1 0 1 1 0 0 1 1 1 0 1 1]\n"
     ]
    }
   ],
   "source": [
    "print(\"GaussianNB\",y_predG)\n",
    "print(\"MultinomialNB\",y_predM)\n",
    "print(\"BernoulliNB\",y_predB)"
   ]
  },
  {
   "cell_type": "code",
   "execution_count": 27,
   "metadata": {
    "colab": {
     "base_uri": "https://localhost:8080/"
    },
    "id": "SpVmHjmuMvYB",
    "outputId": "d58a9c43-c247-45c5-d6cd-664eac32ec13"
   },
   "outputs": [
    {
     "name": "stdout",
     "output_type": "stream",
     "text": [
      "GaussianNB Accuracy 71.0 %\n",
      "MultinomialNB Accuracy 78.0 %\n",
      "BernoulliNB Accuracy 77.5 %\n"
     ]
    }
   ],
   "source": [
    "print(\"GaussianNB Accuracy\",accuracy_score(y_predG, y_test)*100,\"%\")\n",
    "print(\"MultinomialNB Accuracy\",accuracy_score(y_predM, y_test)*100,\"%\")\n",
    "print(\"BernoulliNB Accuracy\",accuracy_score(y_predB, y_test)*100,\"%\")"
   ]
  },
  {
   "cell_type": "code",
   "execution_count": 28,
   "metadata": {
    "colab": {
     "base_uri": "https://localhost:8080/"
    },
    "id": "cSQuD3IFNK12",
    "outputId": "9c6eb203-3a71-4aec-f92e-3161580e4c5b"
   },
   "outputs": [
    {
     "name": "stdout",
     "output_type": "stream",
     "text": [
      "Random forest Accuracy 71.5 %\n"
     ]
    }
   ],
   "source": [
    "from sklearn.ensemble import RandomForestClassifier\n",
    "from sklearn.metrics import accuracy_score\n",
    "rf=RandomForestClassifier()\n",
    "rf.fit(x_train,y_train)\n",
    "y_pred=rf.predict(x_test)\n",
    "print(\"Random forest Accuracy\",accuracy_score(y_test,y_pred)*100,\"%\")"
   ]
  },
  {
   "cell_type": "code",
   "execution_count": 29,
   "metadata": {
    "colab": {
     "base_uri": "https://localhost:8080/"
    },
    "id": "cyNY5FOUNpRp",
    "outputId": "c00d47ec-cf14-4a4c-e32b-846bcbee538d"
   },
   "outputs": [
    {
     "name": "stdout",
     "output_type": "stream",
     "text": [
      "[[74 30]\n",
      " [14 82]]\n"
     ]
    }
   ],
   "source": [
    "from sklearn.metrics import confusion_matrix\n",
    "cm = confusion_matrix(y_test, y_predM)\n",
    "print(cm)"
   ]
  },
  {
   "cell_type": "code",
   "execution_count": 30,
   "metadata": {
    "colab": {
     "base_uri": "https://localhost:8080/",
     "height": 564
    },
    "id": "PscNQ6xBNG5P",
    "outputId": "d7e0ecc8-12b4-41a3-928a-00a4a9eddc3c"
   },
   "outputs": [
    {
     "data": {
      "image/png": "[encoded data removed]",
      "text/plain": [
       "<Figure size 720x432 with 2 Axes>"
      ]
     },
     "metadata": {
      "needs_background": "light"
     },
     "output_type": "display_data"
    }
   ],
   "source": [
    "import matplotlib.pyplot as plt\n",
    "import seaborn as sns\n",
    "%matplotlib inline\n",
    "plt.figure(figsize=(10,6))\n",
    "sns.heatmap(cm,annot=True,cmap=\"YlGnBu\", xticklabels=['Negative','Positive'],yticklabels=['Negative','Positive'])\n",
    "plt.xlabel(\"Predicted values\")\n",
    "plt.ylabel(\"Actual values\")\n",
    "plt.title(\"Confusion Matrix\")\n",
    "plt.show()"
   ]
  },
  {
   "cell_type": "code",
   "execution_count": 31,
   "metadata": {
    "colab": {
     "base_uri": "https://localhost:8080/"
    },
    "id": "EKBHTk8nON1I",
    "outputId": "e783cb53-e785-41d5-c533-87b28d913f39"
   },
   "outputs": [
    {
     "name": "stdout",
     "output_type": "stream",
     "text": [
      "Accuracy score for alpha=0.1 is: 79.0%\n",
      "Accuracy score for alpha=0.2 is: 78.0%\n",
      "Accuracy score for alpha=0.3 is: 78.5%\n",
      "Accuracy score for alpha=0.4 is: 79.0%\n",
      "Accuracy score for alpha=0.5 is: 77.5%\n",
      "Accuracy score for alpha=0.6 is: 77.0%\n",
      "Accuracy score for alpha=0.7 is: 77.0%\n",
      "Accuracy score for alpha=0.8 is: 77.0%\n",
      "Accuracy score for alpha=0.9 is: 77.5%\n",
      "Accuracy score for alpha=1.0 is: 78.0%\n",
      "\n",
      "The best accuracy is 79.0% with alpha value as 0.1\n"
     ]
    }
   ],
   "source": [
    "import numpy as np\n",
    "from sklearn.naive_bayes import MultinomialNB\n",
    "from sklearn.metrics import accuracy_score\n",
    "\n",
    "best_accuracy = 0.0\n",
    "alpha_val = 0.0\n",
    "\n",
    "for i in np.arange(0.1, 1.1, 0.1):\n",
    "    temp_classifier = MultinomialNB(alpha=i)\n",
    "    temp_classifier.fit(x_train, y_train)\n",
    "\n",
    "    temp_y_pred = temp_classifier.predict(x_test)\n",
    "    score = accuracy_score(y_test, temp_y_pred)\n",
    "\n",
    "    print(f\"Accuracy score for alpha={round(i, 1)} is: {round(score * 100, 2)}%\")\n",
    "\n",
    "    if score > best_accuracy:\n",
    "        best_accuracy = score\n",
    "        alpha_val = i\n",
    "\n",
    "print()\n",
    "print(f'The best accuracy is {round(best_accuracy * 100, 2)}% with alpha value as {round(alpha_val, 1)}')\n"
   ]
  },
  {
   "cell_type": "code",
   "execution_count": 32,
   "metadata": {
    "colab": {
     "base_uri": "https://localhost:8080/",
     "height": 80
    },
    "id": "vdV7yWSwQCvh",
    "outputId": "45b2fa0b-f525-490e-9f43-21c1610b42b1"
   },
   "outputs": [
    {
     "data": {
      "text/plain": [
       "MultinomialNB(alpha=0.1)"
      ]
     },
     "execution_count": 32,
     "metadata": {},
     "output_type": "execute_result"
    }
   ],
   "source": [
    "classifier = MultinomialNB(alpha=0.1)\n",
    "classifier.fit(x_train, y_train)"
   ]
  },
  {
   "cell_type": "code",
   "execution_count": 33,
   "metadata": {
    "id": "sykZzWWPQhsE"
   },
   "outputs": [],
   "source": [
    "def predict_sentiment(sample_review):\n",
    "    sample_review=re.sub('[^a-zA-Z]',repl=' ',string=sample_review)\n",
    "    sample_review=sample_review.lower()\n",
    "    sample_review_words=sample_review.split()\n",
    "    sample_review_words=[word for word in sample_review_words if not word in set(stopwords.words('english'))]\n",
    "    ps=PorterStemmer()\n",
    "    final_review=[ps.stem(word) for word in sample_review_words]\n",
    "    final_review=' '.join(final_review)\n",
    "    temp=cv.transform([final_review]).toarray()\n",
    "    return classifier.predict(temp)"
   ]
  },
  {
   "cell_type": "code",
   "execution_count": 35,
   "metadata": {
    "colab": {
     "base_uri": "https://localhost:8080/"
    },
    "id": "8n8EqJRpQ7jw",
    "outputId": "2f09c795-d812-4a71-af21-0ba510a14385"
   },
   "outputs": [
    {
     "name": "stdout",
     "output_type": "stream",
     "text": [
      "Enter your review: very nice resturant's food\n",
      "This is a POSITIVE review.\n"
     ]
    }
   ],
   "source": [
    "# Predicting Values\n",
    "sample_review = input('Enter your review: ')\n",
    "if predict_sentiment(sample_review):\n",
    "    print('This is a POSITIVE review.')\n",
    "else:\n",
    "    print('This is a NEGATIVE review!')"
   ]
  },
  {
   "cell_type": "code",
   "execution_count": null,
   "metadata": {
    "id": "V6_oRcKiRHpt"
   },
   "outputs": [],
   "source": []
  }
 ],
 "metadata": {
  "colab": {
   "provenance": []
  },
  "kernelspec": {
   "display_name": "Python 3 (ipykernel)",
   "language": "python",
   "name": "python3"
  },
  "language_info": {
   "codemirror_mode": {
    "name": "ipython",
    "version": 3
   },
   "file_extension": ".py",
   "mimetype": "text/x-python",
   "name": "python",
   "nbconvert_exporter": "python",
   "pygments_lexer": "ipython3",
   "version": "3.9.12"
  }
 },
 "nbformat": 4,
 "nbformat_minor": 1
}
